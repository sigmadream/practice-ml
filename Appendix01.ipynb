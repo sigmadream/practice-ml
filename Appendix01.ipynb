{
 "cells": [
  {
   "cell_type": "markdown",
   "id": "051ed02e",
   "metadata": {},
   "source": [
    "---\n",
    "title: 다양한 모델로 살펴보는 캘리포니아 집값 예측(회귀)\n",
    "---"
   ]
  },
  {
   "cell_type": "code",
   "execution_count": null,
   "id": "3180fb44",
   "metadata": {
    "execution": {
     "iopub.execute_input": "2022-08-27T17:15:54.413890Z",
     "iopub.status.busy": "2022-08-27T17:15:54.412538Z",
     "iopub.status.idle": "2022-08-27T17:15:57.361527Z",
     "shell.execute_reply": "2022-08-27T17:15:57.360231Z"
    },
    "papermill": {
     "duration": 2.974183,
     "end_time": "2022-08-27T17:15:57.364866",
     "exception": false,
     "start_time": "2022-08-27T17:15:54.390683",
     "status": "completed"
    },
    "tags": []
   },
   "outputs": [],
   "source": [
    "import pandas as pd\n",
    "import numpy as np\n",
    "import matplotlib.pyplot as plt\n",
    "import seaborn as sns\n",
    "sns.set()\n",
    "\n",
    "import koreanize_matplotlib\n",
    "\n",
    "from scipy.stats import skew\n",
    "from sklearn.preprocessing import LabelEncoder, StandardScaler\n",
    "from sklearn.model_selection import train_test_split\n",
    "from sklearn.linear_model import LinearRegression\n",
    "from sklearn.ensemble import RandomForestRegressor\n",
    "from sklearn.metrics import r2_score, mean_squared_error\n",
    "from sklearn.neighbors import KNeighborsRegressor\n",
    "from sklearn.ensemble import GradientBoostingRegressor\n",
    "\n",
    "from catboost import CatBoostRegressor\n",
    "from xgboost import XGBRegressor\n",
    "from lightgbm import LGBMRegressor"
   ]
  },
  {
   "cell_type": "markdown",
   "id": "dc04dfa9",
   "metadata": {},
   "source": [
    "## 데이터 읽어오기"
   ]
  },
  {
   "cell_type": "code",
   "execution_count": null,
   "id": "c449b915",
   "metadata": {
    "execution": {
     "iopub.execute_input": "2022-08-27T17:15:57.396056Z",
     "iopub.status.busy": "2022-08-27T17:15:57.394783Z",
     "iopub.status.idle": "2022-08-27T17:15:57.475332Z",
     "shell.execute_reply": "2022-08-27T17:15:57.473988Z"
    },
    "papermill": {
     "duration": 0.100459,
     "end_time": "2022-08-27T17:15:57.479640",
     "exception": false,
     "start_time": "2022-08-27T17:15:57.379181",
     "status": "completed"
    },
    "tags": []
   },
   "outputs": [],
   "source": [
    "data = pd.read_csv('data/housing.csv')\n",
    "data.head()"
   ]
  },
  {
   "cell_type": "code",
   "execution_count": null,
   "id": "1c35918d",
   "metadata": {
    "execution": {
     "iopub.execute_input": "2022-08-27T17:15:57.510212Z",
     "iopub.status.busy": "2022-08-27T17:15:57.509740Z",
     "iopub.status.idle": "2022-08-27T17:15:57.516421Z",
     "shell.execute_reply": "2022-08-27T17:15:57.515593Z"
    },
    "papermill": {
     "duration": 0.024213,
     "end_time": "2022-08-27T17:15:57.518528",
     "exception": false,
     "start_time": "2022-08-27T17:15:57.494315",
     "status": "completed"
    },
    "tags": []
   },
   "outputs": [],
   "source": [
    "data.columns.values"
   ]
  },
  {
   "cell_type": "code",
   "execution_count": null,
   "id": "2c57287a",
   "metadata": {
    "execution": {
     "iopub.execute_input": "2022-08-27T17:15:57.549256Z",
     "iopub.status.busy": "2022-08-27T17:15:57.548773Z",
     "iopub.status.idle": "2022-08-27T17:15:57.579370Z",
     "shell.execute_reply": "2022-08-27T17:15:57.576860Z"
    },
    "papermill": {
     "duration": 0.049956,
     "end_time": "2022-08-27T17:15:57.582041",
     "exception": false,
     "start_time": "2022-08-27T17:15:57.532085",
     "status": "completed"
    },
    "tags": []
   },
   "outputs": [],
   "source": [
    "data.info()"
   ]
  },
  {
   "cell_type": "markdown",
   "id": "8e8ae32e",
   "metadata": {
    "papermill": {
     "duration": 0.013184,
     "end_time": "2022-08-27T17:15:57.609000",
     "exception": false,
     "start_time": "2022-08-27T17:15:57.595816",
     "status": "completed"
    },
    "tags": []
   },
   "source": [
    "## 전처리(NaN, Missing Value)"
   ]
  },
  {
   "cell_type": "code",
   "execution_count": null,
   "id": "7f4a437d",
   "metadata": {
    "execution": {
     "iopub.execute_input": "2022-08-27T17:15:57.638735Z",
     "iopub.status.busy": "2022-08-27T17:15:57.637534Z",
     "iopub.status.idle": "2022-08-27T17:15:57.649449Z",
     "shell.execute_reply": "2022-08-27T17:15:57.648526Z"
    },
    "papermill": {
     "duration": 0.02908,
     "end_time": "2022-08-27T17:15:57.651473",
     "exception": false,
     "start_time": "2022-08-27T17:15:57.622393",
     "status": "completed"
    },
    "tags": []
   },
   "outputs": [],
   "source": [
    "data.isnull().sum()"
   ]
  },
  {
   "cell_type": "code",
   "execution_count": null,
   "id": "c8db8bcc",
   "metadata": {
    "execution": {
     "iopub.execute_input": "2022-08-27T17:15:57.682095Z",
     "iopub.status.busy": "2022-08-27T17:15:57.681158Z",
     "iopub.status.idle": "2022-08-27T17:15:57.736942Z",
     "shell.execute_reply": "2022-08-27T17:15:57.735588Z"
    },
    "papermill": {
     "duration": 0.074055,
     "end_time": "2022-08-27T17:15:57.739454",
     "exception": false,
     "start_time": "2022-08-27T17:15:57.665399",
     "status": "completed"
    },
    "tags": []
   },
   "outputs": [],
   "source": [
    "data.describe()"
   ]
  },
  {
   "cell_type": "markdown",
   "id": "d782134c",
   "metadata": {
    "papermill": {
     "duration": 0.013658,
     "end_time": "2022-08-27T17:15:57.767173",
     "exception": false,
     "start_time": "2022-08-27T17:15:57.753515",
     "status": "completed"
    },
    "tags": []
   },
   "source": [
    "- 한 블록 내의 최대 침실이 6445개이고 평균 침실이 537임을 알 수 있습니다. \n",
    "- 데이터가 왜곡된 것 같으므로 히스토그램을 통해 이를 확인하겠습니다."
   ]
  },
  {
   "cell_type": "code",
   "execution_count": null,
   "id": "30a6c34f",
   "metadata": {
    "execution": {
     "iopub.execute_input": "2022-08-27T17:15:57.797937Z",
     "iopub.status.busy": "2022-08-27T17:15:57.797395Z",
     "iopub.status.idle": "2022-08-27T17:15:58.684452Z",
     "shell.execute_reply": "2022-08-27T17:15:58.683514Z"
    },
    "papermill": {
     "duration": 0.905576,
     "end_time": "2022-08-27T17:15:58.686797",
     "exception": false,
     "start_time": "2022-08-27T17:15:57.781221",
     "status": "completed"
    },
    "tags": []
   },
   "outputs": [],
   "source": [
    "plt.figure(figsize= (10, 6))\n",
    "sns.histplot(data['total_bedrooms'], color = '#005b96', kde= True);"
   ]
  },
  {
   "cell_type": "markdown",
   "id": "8591b52a",
   "metadata": {
    "papermill": {
     "duration": 0.014165,
     "end_time": "2022-08-27T17:15:58.715826",
     "exception": false,
     "start_time": "2022-08-27T17:15:58.701661",
     "status": "completed"
    },
    "tags": []
   },
   "source": [
    "- 확실히 왜곡되어 있으므로 누락된 값은 블록 내 객실 수 중앙값으로 채웁니다."
   ]
  },
  {
   "cell_type": "code",
   "execution_count": null,
   "id": "4ea8bbf8",
   "metadata": {
    "execution": {
     "iopub.execute_input": "2022-08-27T17:15:58.747794Z",
     "iopub.status.busy": "2022-08-27T17:15:58.746532Z",
     "iopub.status.idle": "2022-08-27T17:15:58.754271Z",
     "shell.execute_reply": "2022-08-27T17:15:58.753095Z"
    },
    "papermill": {
     "duration": 0.026581,
     "end_time": "2022-08-27T17:15:58.756817",
     "exception": false,
     "start_time": "2022-08-27T17:15:58.730236",
     "status": "completed"
    },
    "tags": []
   },
   "outputs": [],
   "source": [
    "data['total_bedrooms'] = data['total_bedrooms'].fillna(data['total_bedrooms'].median())"
   ]
  },
  {
   "cell_type": "markdown",
   "id": "55eb79ce",
   "metadata": {
    "papermill": {
     "duration": 0.014124,
     "end_time": "2022-08-27T17:15:58.785417",
     "exception": false,
     "start_time": "2022-08-27T17:15:58.771293",
     "status": "completed"
    },
    "tags": []
   },
   "source": [
    "## EDA"
   ]
  },
  {
   "cell_type": "code",
   "execution_count": null,
   "id": "5b311d82",
   "metadata": {
    "execution": {
     "iopub.execute_input": "2022-08-27T17:15:58.816842Z",
     "iopub.status.busy": "2022-08-27T17:15:58.816311Z",
     "iopub.status.idle": "2022-08-27T17:15:59.713492Z",
     "shell.execute_reply": "2022-08-27T17:15:59.712065Z"
    },
    "papermill": {
     "duration": 0.917024,
     "end_time": "2022-08-27T17:15:59.717208",
     "exception": false,
     "start_time": "2022-08-27T17:15:58.800184",
     "status": "completed"
    },
    "tags": []
   },
   "outputs": [],
   "source": [
    "plt.figure(figsize= (20, 8))\n",
    "sns.heatmap(data.corr(numeric_only=True), annot= True, cmap='YlGnBu')\n",
    "plt.show()"
   ]
  },
  {
   "cell_type": "markdown",
   "id": "8eab9e1b",
   "metadata": {
    "papermill": {
     "duration": 0.016155,
     "end_time": "2022-08-27T17:15:59.750466",
     "exception": false,
     "start_time": "2022-08-27T17:15:59.734311",
     "status": "completed"
    },
    "tags": []
   },
   "source": [
    "- 중위소득은 분명 가장 중요한 특징입니다."
   ]
  },
  {
   "cell_type": "code",
   "execution_count": null,
   "id": "4acc177c",
   "metadata": {
    "execution": {
     "iopub.execute_input": "2022-08-27T17:15:59.787212Z",
     "iopub.status.busy": "2022-08-27T17:15:59.786179Z",
     "iopub.status.idle": "2022-08-27T17:16:00.193123Z",
     "shell.execute_reply": "2022-08-27T17:16:00.192043Z"
    },
    "papermill": {
     "duration": 0.428713,
     "end_time": "2022-08-27T17:16:00.195706",
     "exception": false,
     "start_time": "2022-08-27T17:15:59.766993",
     "status": "completed"
    },
    "tags": []
   },
   "outputs": [],
   "source": [
    "sns.histplot(data['median_house_value'], color = '#005b96', kde= True);"
   ]
  },
  {
   "cell_type": "code",
   "execution_count": null,
   "id": "2009ff19",
   "metadata": {
    "execution": {
     "iopub.execute_input": "2022-08-27T17:16:00.230824Z",
     "iopub.status.busy": "2022-08-27T17:16:00.230164Z",
     "iopub.status.idle": "2022-08-27T17:16:00.237991Z",
     "shell.execute_reply": "2022-08-27T17:16:00.236906Z"
    },
    "papermill": {
     "duration": 0.028627,
     "end_time": "2022-08-27T17:16:00.240745",
     "exception": false,
     "start_time": "2022-08-27T17:16:00.212118",
     "status": "completed"
    },
    "tags": []
   },
   "outputs": [],
   "source": [
    "data['median_house_value'].skew()"
   ]
  },
  {
   "cell_type": "markdown",
   "id": "47149b67",
   "metadata": {
    "papermill": {
     "duration": 0.017171,
     "end_time": "2022-08-27T17:16:00.275402",
     "exception": false,
     "start_time": "2022-08-27T17:16:00.258231",
     "status": "completed"
    },
    "tags": []
   },
   "source": [
    "- 우리의 목표 변수는 분명히 왜곡되어 있습니다. 따라서 로그 변환을 늦게 적용할 것입니다."
   ]
  },
  {
   "cell_type": "code",
   "execution_count": null,
   "id": "0d198394",
   "metadata": {
    "execution": {
     "iopub.execute_input": "2022-08-27T17:16:00.311792Z",
     "iopub.status.busy": "2022-08-27T17:16:00.311042Z",
     "iopub.status.idle": "2022-08-27T17:16:02.359864Z",
     "shell.execute_reply": "2022-08-27T17:16:02.358603Z"
    },
    "papermill": {
     "duration": 2.070284,
     "end_time": "2022-08-27T17:16:02.362640",
     "exception": false,
     "start_time": "2022-08-27T17:16:00.292356",
     "status": "completed"
    },
    "tags": []
   },
   "outputs": [],
   "source": [
    "data.hist(bins = 30, figsize=(20, 15), color = '#005b96');"
   ]
  },
  {
   "cell_type": "markdown",
   "id": "237996b9",
   "metadata": {
    "papermill": {
     "duration": 0.018324,
     "end_time": "2022-08-27T17:16:02.399273",
     "exception": false,
     "start_time": "2022-08-27T17:16:02.380949",
     "status": "completed"
    },
    "tags": []
   },
   "source": [
    "많은 기능이 왜곡되어 있다는 것을 분명히 알 수 있습니다. 따라서 나중에 기능 변환을 수행할 때 이 문제를 해결해야 할 것입니다."
   ]
  },
  {
   "cell_type": "code",
   "execution_count": null,
   "id": "86af4e0f",
   "metadata": {
    "execution": {
     "iopub.execute_input": "2022-08-27T17:16:02.438483Z",
     "iopub.status.busy": "2022-08-27T17:16:02.437446Z",
     "iopub.status.idle": "2022-08-27T17:17:42.783537Z",
     "shell.execute_reply": "2022-08-27T17:17:42.782185Z"
    },
    "papermill": {
     "duration": 100.390913,
     "end_time": "2022-08-27T17:17:42.808201",
     "exception": false,
     "start_time": "2022-08-27T17:16:02.417288",
     "status": "completed"
    },
    "tags": []
   },
   "outputs": [],
   "source": [
    "grid = sns.PairGrid(data, vars=['total_rooms', 'housing_median_age', 'median_income', 'median_house_value'],\n",
    "                    height=2, aspect = 2)\n",
    "grid = grid.map_diag(plt.hist)\n",
    "grid = grid.map_lower(sns.regplot, scatter_kws = {'s': 15, 'alpha': 0.7, 'color': '#005b96'}, \n",
    "                      line_kws = {'color':'orange', 'linewidth': 2})\n",
    "grid = grid.map_upper(sns.kdeplot, n_levels = 10, cmap= 'coolwarm', fill = True)\n",
    "plt.show()"
   ]
  },
  {
   "cell_type": "markdown",
   "id": "80c2cee7",
   "metadata": {
    "papermill": {
     "duration": 0.019001,
     "end_time": "2022-08-27T17:17:42.846596",
     "exception": false,
     "start_time": "2022-08-27T17:17:42.827595",
     "status": "completed"
    },
    "tags": []
   },
   "source": [
    "어떻게 들여다봐도 문제가 많은 데이터..?, 범주형 변수도 같이 확인해보죠"
   ]
  },
  {
   "cell_type": "code",
   "execution_count": null,
   "id": "4dd2d2cc",
   "metadata": {
    "execution": {
     "iopub.execute_input": "2022-08-27T17:17:42.926485Z",
     "iopub.status.busy": "2022-08-27T17:17:42.926084Z",
     "iopub.status.idle": "2022-08-27T17:17:43.080697Z",
     "shell.execute_reply": "2022-08-27T17:17:43.079879Z"
    },
    "papermill": {
     "duration": 0.179421,
     "end_time": "2022-08-27T17:17:43.084301",
     "exception": false,
     "start_time": "2022-08-27T17:17:42.904880",
     "status": "completed"
    },
    "tags": []
   },
   "outputs": [],
   "source": [
    "sns.countplot(x = data['ocean_proximity']);"
   ]
  },
  {
   "cell_type": "code",
   "execution_count": null,
   "id": "782c6323",
   "metadata": {
    "execution": {
     "iopub.execute_input": "2022-08-27T17:17:43.136752Z",
     "iopub.status.busy": "2022-08-27T17:17:43.136303Z",
     "iopub.status.idle": "2022-08-27T17:17:43.846904Z",
     "shell.execute_reply": "2022-08-27T17:17:43.845353Z"
    },
    "papermill": {
     "duration": 0.735624,
     "end_time": "2022-08-27T17:17:43.849499",
     "exception": false,
     "start_time": "2022-08-27T17:17:43.113875",
     "status": "completed"
    },
    "tags": []
   },
   "outputs": [],
   "source": [
    "data.plot(kind=\"scatter\", x=\"longitude\", y=\"latitude\", alpha=0.4,\n",
    "        s=data[\"population\"]/100, label=\"population\", figsize=(15,8),\n",
    "        c=\"median_house_value\", cmap=plt.get_cmap(\"jet\"),colorbar=True,\n",
    "    )\n",
    "plt.legend()\n",
    "plt.show()"
   ]
  },
  {
   "cell_type": "markdown",
   "id": "de1d9108",
   "metadata": {
    "papermill": {
     "duration": 0.02252,
     "end_time": "2022-08-27T17:17:43.895196",
     "exception": false,
     "start_time": "2022-08-27T17:17:43.872676",
     "status": "completed"
    },
    "tags": []
   },
   "source": [
    "### 특성공학"
   ]
  },
  {
   "cell_type": "code",
   "execution_count": null,
   "id": "02f359c7",
   "metadata": {
    "execution": {
     "iopub.execute_input": "2022-08-27T17:17:43.943538Z",
     "iopub.status.busy": "2022-08-27T17:17:43.942046Z",
     "iopub.status.idle": "2022-08-27T17:17:43.949115Z",
     "shell.execute_reply": "2022-08-27T17:17:43.948130Z"
    },
    "papermill": {
     "duration": 0.033726,
     "end_time": "2022-08-27T17:17:43.951584",
     "exception": false,
     "start_time": "2022-08-27T17:17:43.917858",
     "status": "completed"
    },
    "tags": []
   },
   "outputs": [],
   "source": [
    "data['bed_per_room'] = data['total_bedrooms'] / data['total_rooms']"
   ]
  },
  {
   "cell_type": "code",
   "execution_count": null,
   "id": "99c3b8bb",
   "metadata": {
    "execution": {
     "iopub.execute_input": "2022-08-27T17:17:44.010972Z",
     "iopub.status.busy": "2022-08-27T17:17:44.009423Z",
     "iopub.status.idle": "2022-08-27T17:17:44.020618Z",
     "shell.execute_reply": "2022-08-27T17:17:44.019556Z"
    },
    "papermill": {
     "duration": 0.047001,
     "end_time": "2022-08-27T17:17:44.023510",
     "exception": false,
     "start_time": "2022-08-27T17:17:43.976509",
     "status": "completed"
    },
    "tags": []
   },
   "outputs": [],
   "source": [
    "X = data.drop(['median_house_value'], axis=1)\n",
    "y = np.log(data.median_house_value) # 로그 변환"
   ]
  },
  {
   "cell_type": "markdown",
   "id": "96f9dedb",
   "metadata": {
    "papermill": {
     "duration": 0.022678,
     "end_time": "2022-08-27T17:17:44.069540",
     "exception": false,
     "start_time": "2022-08-27T17:17:44.046862",
     "status": "completed"
    },
    "tags": []
   },
   "source": [
    "## 특성 변환"
   ]
  },
  {
   "cell_type": "code",
   "execution_count": null,
   "id": "7c9d2685",
   "metadata": {
    "execution": {
     "iopub.execute_input": "2022-08-27T17:17:44.118166Z",
     "iopub.status.busy": "2022-08-27T17:17:44.117250Z",
     "iopub.status.idle": "2022-08-27T17:17:44.143818Z",
     "shell.execute_reply": "2022-08-27T17:17:44.142527Z"
    },
    "papermill": {
     "duration": 0.053947,
     "end_time": "2022-08-27T17:17:44.146458",
     "exception": false,
     "start_time": "2022-08-27T17:17:44.092511",
     "status": "completed"
    },
    "tags": []
   },
   "outputs": [],
   "source": [
    "skew_df = pd.DataFrame(X.select_dtypes(np.number).columns, columns= ['Feature'])\n",
    "skew_df['Skew'] = skew_df['Feature'].apply(lambda feature: skew(X[feature]))\n",
    "skew_df['Abs_Skew'] = skew_df['Skew'].apply(abs)\n",
    "skew_df['Skewed'] = skew_df['Abs_Skew'].apply(lambda x: True if x > 0.5 else False)\n",
    "skew_df"
   ]
  },
  {
   "cell_type": "code",
   "execution_count": null,
   "id": "be170a00",
   "metadata": {
    "execution": {
     "iopub.execute_input": "2022-08-27T17:17:44.196268Z",
     "iopub.status.busy": "2022-08-27T17:17:44.195380Z",
     "iopub.status.idle": "2022-08-27T17:17:44.204838Z",
     "shell.execute_reply": "2022-08-27T17:17:44.203896Z"
    },
    "papermill": {
     "duration": 0.036923,
     "end_time": "2022-08-27T17:17:44.207127",
     "exception": false,
     "start_time": "2022-08-27T17:17:44.170204",
     "status": "completed"
    },
    "tags": []
   },
   "outputs": [],
   "source": [
    "skewed_columns = skew_df[skew_df['Abs_Skew'] > 0.5]['Feature'].values\n",
    "skewed_columns"
   ]
  },
  {
   "cell_type": "code",
   "execution_count": null,
   "id": "b79983d8",
   "metadata": {
    "execution": {
     "iopub.execute_input": "2022-08-27T17:17:44.255166Z",
     "iopub.status.busy": "2022-08-27T17:17:44.254353Z",
     "iopub.status.idle": "2022-08-27T17:17:44.263223Z",
     "shell.execute_reply": "2022-08-27T17:17:44.262217Z"
    },
    "papermill": {
     "duration": 0.03557,
     "end_time": "2022-08-27T17:17:44.265353",
     "exception": false,
     "start_time": "2022-08-27T17:17:44.229783",
     "status": "completed"
    },
    "tags": []
   },
   "outputs": [],
   "source": [
    "for column in skewed_columns:\n",
    "    X[column] = np.log(X[column])"
   ]
  },
  {
   "cell_type": "markdown",
   "id": "12f64356",
   "metadata": {
    "papermill": {
     "duration": 0.022268,
     "end_time": "2022-08-27T17:17:44.309715",
     "exception": false,
     "start_time": "2022-08-27T17:17:44.287447",
     "status": "completed"
    },
    "tags": []
   },
   "source": [
    "### Encoding"
   ]
  },
  {
   "cell_type": "code",
   "execution_count": null,
   "id": "693f0413",
   "metadata": {
    "execution": {
     "iopub.execute_input": "2022-08-27T17:17:44.364062Z",
     "iopub.status.busy": "2022-08-27T17:17:44.363153Z",
     "iopub.status.idle": "2022-08-27T17:17:44.376417Z",
     "shell.execute_reply": "2022-08-27T17:17:44.375077Z"
    },
    "papermill": {
     "duration": 0.04942,
     "end_time": "2022-08-27T17:17:44.382193",
     "exception": false,
     "start_time": "2022-08-27T17:17:44.332773",
     "status": "completed"
    },
    "tags": []
   },
   "outputs": [],
   "source": [
    "encoder=LabelEncoder()\n",
    "X['ocean_proximity']=encoder.fit_transform(X['ocean_proximity'])"
   ]
  },
  {
   "cell_type": "markdown",
   "id": "6e6c0a80",
   "metadata": {
    "papermill": {
     "duration": 0.027526,
     "end_time": "2022-08-27T17:17:44.438296",
     "exception": false,
     "start_time": "2022-08-27T17:17:44.410770",
     "status": "completed"
    },
    "tags": []
   },
   "source": [
    "### Scaling"
   ]
  },
  {
   "cell_type": "code",
   "execution_count": null,
   "id": "b4e00847",
   "metadata": {
    "execution": {
     "iopub.execute_input": "2022-08-27T17:17:44.486008Z",
     "iopub.status.busy": "2022-08-27T17:17:44.485173Z",
     "iopub.status.idle": "2022-08-27T17:17:44.502771Z",
     "shell.execute_reply": "2022-08-27T17:17:44.501635Z"
    },
    "papermill": {
     "duration": 0.044185,
     "end_time": "2022-08-27T17:17:44.505113",
     "exception": false,
     "start_time": "2022-08-27T17:17:44.460928",
     "status": "completed"
    },
    "tags": []
   },
   "outputs": [],
   "source": [
    "X.head()"
   ]
  },
  {
   "cell_type": "code",
   "execution_count": null,
   "id": "dbe2a4b2",
   "metadata": {
    "execution": {
     "iopub.execute_input": "2022-08-27T17:17:44.552060Z",
     "iopub.status.busy": "2022-08-27T17:17:44.551572Z",
     "iopub.status.idle": "2022-08-27T17:17:44.566274Z",
     "shell.execute_reply": "2022-08-27T17:17:44.565123Z"
    },
    "papermill": {
     "duration": 0.041125,
     "end_time": "2022-08-27T17:17:44.568560",
     "exception": false,
     "start_time": "2022-08-27T17:17:44.527435",
     "status": "completed"
    },
    "tags": []
   },
   "outputs": [],
   "source": [
    "scaler = StandardScaler()\n",
    "scaler.fit(X)\n",
    "X = pd.DataFrame(scaler.transform(X), index= X.index, columns= X.columns)\n"
   ]
  },
  {
   "cell_type": "markdown",
   "id": "15008a9c",
   "metadata": {
    "papermill": {
     "duration": 0.02229,
     "end_time": "2022-08-27T17:17:44.613956",
     "exception": false,
     "start_time": "2022-08-27T17:17:44.591666",
     "status": "completed"
    },
    "tags": []
   },
   "source": [
    "## 데이터 나누기"
   ]
  },
  {
   "cell_type": "code",
   "execution_count": null,
   "id": "07781377",
   "metadata": {
    "execution": {
     "iopub.execute_input": "2022-08-27T17:17:44.661837Z",
     "iopub.status.busy": "2022-08-27T17:17:44.660976Z",
     "iopub.status.idle": "2022-08-27T17:17:44.670868Z",
     "shell.execute_reply": "2022-08-27T17:17:44.669934Z"
    },
    "papermill": {
     "duration": 0.036777,
     "end_time": "2022-08-27T17:17:44.673362",
     "exception": false,
     "start_time": "2022-08-27T17:17:44.636585",
     "status": "completed"
    },
    "tags": []
   },
   "outputs": [],
   "source": [
    "X_train, X_test, y_train, y_test = train_test_split(X, y, test_size= 0.2, random_state= 42)"
   ]
  },
  {
   "cell_type": "markdown",
   "id": "55e136cb",
   "metadata": {},
   "source": [
    "## 모델 생성"
   ]
  },
  {
   "cell_type": "markdown",
   "id": "f837f87f",
   "metadata": {
    "papermill": {
     "duration": 0.02294,
     "end_time": "2022-08-27T17:17:44.719416",
     "exception": false,
     "start_time": "2022-08-27T17:17:44.696476",
     "status": "completed"
    },
    "tags": []
   },
   "source": [
    "### Linear Regression"
   ]
  },
  {
   "cell_type": "code",
   "execution_count": null,
   "id": "6b80ad3e",
   "metadata": {
    "execution": {
     "iopub.execute_input": "2022-08-27T17:17:44.767949Z",
     "iopub.status.busy": "2022-08-27T17:17:44.766527Z",
     "iopub.status.idle": "2022-08-27T17:17:44.820401Z",
     "shell.execute_reply": "2022-08-27T17:17:44.817461Z"
    },
    "papermill": {
     "duration": 0.081839,
     "end_time": "2022-08-27T17:17:44.824160",
     "exception": false,
     "start_time": "2022-08-27T17:17:44.742321",
     "status": "completed"
    },
    "tags": []
   },
   "outputs": [],
   "source": [
    "lr = LinearRegression()\n",
    "lr.fit(X_train, y_train)\n",
    "predictions_lr = lr.predict(X_test)"
   ]
  },
  {
   "cell_type": "code",
   "execution_count": null,
   "id": "ccb36cfc",
   "metadata": {
    "execution": {
     "iopub.execute_input": "2022-08-27T17:17:44.930048Z",
     "iopub.status.busy": "2022-08-27T17:17:44.928588Z",
     "iopub.status.idle": "2022-08-27T17:17:44.938270Z",
     "shell.execute_reply": "2022-08-27T17:17:44.936307Z"
    },
    "papermill": {
     "duration": 0.053002,
     "end_time": "2022-08-27T17:17:44.941011",
     "exception": false,
     "start_time": "2022-08-27T17:17:44.888009",
     "status": "completed"
    },
    "tags": []
   },
   "outputs": [],
   "source": [
    "rmse = np.sqrt(mean_squared_error(y_test, predictions_lr))\n",
    "r2 = r2_score(y_test, predictions_lr)\n",
    "\n",
    "print('RMSE:', rmse)\n",
    "print('R-square:', r2)"
   ]
  },
  {
   "cell_type": "markdown",
   "id": "488dbf47",
   "metadata": {
    "papermill": {
     "duration": 0.022648,
     "end_time": "2022-08-27T17:17:44.986287",
     "exception": false,
     "start_time": "2022-08-27T17:17:44.963639",
     "status": "completed"
    },
    "tags": []
   },
   "source": [
    "### KNN"
   ]
  },
  {
   "cell_type": "code",
   "execution_count": null,
   "id": "0d2c6639",
   "metadata": {
    "execution": {
     "iopub.execute_input": "2022-08-27T17:17:45.033873Z",
     "iopub.status.busy": "2022-08-27T17:17:45.033211Z",
     "iopub.status.idle": "2022-08-27T17:17:45.254275Z",
     "shell.execute_reply": "2022-08-27T17:17:45.253084Z"
    },
    "papermill": {
     "duration": 0.248154,
     "end_time": "2022-08-27T17:17:45.257100",
     "exception": false,
     "start_time": "2022-08-27T17:17:45.008946",
     "status": "completed"
    },
    "tags": []
   },
   "outputs": [],
   "source": [
    "knn = KNeighborsRegressor()\n",
    "knn.fit(X_train, y_train)\n",
    "predictions_knn = knn.predict(X_test)"
   ]
  },
  {
   "cell_type": "code",
   "execution_count": null,
   "id": "d7d6973b",
   "metadata": {
    "execution": {
     "iopub.execute_input": "2022-08-27T17:17:45.304285Z",
     "iopub.status.busy": "2022-08-27T17:17:45.303629Z",
     "iopub.status.idle": "2022-08-27T17:17:45.311243Z",
     "shell.execute_reply": "2022-08-27T17:17:45.310074Z"
    },
    "papermill": {
     "duration": 0.034434,
     "end_time": "2022-08-27T17:17:45.313991",
     "exception": false,
     "start_time": "2022-08-27T17:17:45.279557",
     "status": "completed"
    },
    "tags": []
   },
   "outputs": [],
   "source": [
    "rmse = np.sqrt(mean_squared_error(y_test, predictions_knn))\n",
    "r2 = r2_score(y_test, predictions_knn)\n",
    "\n",
    "print('RMSE:', rmse)\n",
    "print('R-square:', r2)"
   ]
  },
  {
   "cell_type": "markdown",
   "id": "967b68ae",
   "metadata": {
    "papermill": {
     "duration": 0.022361,
     "end_time": "2022-08-27T17:17:45.358882",
     "exception": false,
     "start_time": "2022-08-27T17:17:45.336521",
     "status": "completed"
    },
    "tags": []
   },
   "source": [
    "### Random Forest"
   ]
  },
  {
   "cell_type": "code",
   "execution_count": null,
   "id": "ae87a267",
   "metadata": {
    "execution": {
     "iopub.execute_input": "2022-08-27T17:17:45.406465Z",
     "iopub.status.busy": "2022-08-27T17:17:45.405956Z",
     "iopub.status.idle": "2022-08-27T17:17:57.464185Z",
     "shell.execute_reply": "2022-08-27T17:17:57.462964Z"
    },
    "papermill": {
     "duration": 12.085503,
     "end_time": "2022-08-27T17:17:57.467068",
     "exception": false,
     "start_time": "2022-08-27T17:17:45.381565",
     "status": "completed"
    },
    "tags": []
   },
   "outputs": [],
   "source": [
    "rf = RandomForestRegressor(n_estimators= 100)\n",
    "rf.fit(X_train, y_train)\n",
    "predictions_rf = rf.predict(X_test)"
   ]
  },
  {
   "cell_type": "code",
   "execution_count": null,
   "id": "fed929f6",
   "metadata": {
    "execution": {
     "iopub.execute_input": "2022-08-27T17:17:57.514466Z",
     "iopub.status.busy": "2022-08-27T17:17:57.514064Z",
     "iopub.status.idle": "2022-08-27T17:17:57.523341Z",
     "shell.execute_reply": "2022-08-27T17:17:57.521707Z"
    },
    "papermill": {
     "duration": 0.03629,
     "end_time": "2022-08-27T17:17:57.526041",
     "exception": false,
     "start_time": "2022-08-27T17:17:57.489751",
     "status": "completed"
    },
    "tags": []
   },
   "outputs": [],
   "source": [
    "rmse = np.sqrt(mean_squared_error(y_test, predictions_rf))\n",
    "r2 = r2_score(y_test, predictions_rf)\n",
    "\n",
    "print('RMSE:', rmse)\n",
    "print('R-square:', r2)"
   ]
  },
  {
   "cell_type": "markdown",
   "id": "e4bfebd9",
   "metadata": {
    "papermill": {
     "duration": 0.022018,
     "end_time": "2022-08-27T17:17:57.571067",
     "exception": false,
     "start_time": "2022-08-27T17:17:57.549049",
     "status": "completed"
    },
    "tags": []
   },
   "source": [
    "### CatBoost"
   ]
  },
  {
   "cell_type": "code",
   "execution_count": null,
   "id": "4da00ed3",
   "metadata": {
    "execution": {
     "iopub.execute_input": "2022-08-27T17:17:57.618325Z",
     "iopub.status.busy": "2022-08-27T17:17:57.617839Z",
     "iopub.status.idle": "2022-08-27T17:18:01.920394Z",
     "shell.execute_reply": "2022-08-27T17:18:01.919311Z"
    },
    "papermill": {
     "duration": 4.329934,
     "end_time": "2022-08-27T17:18:01.923443",
     "exception": false,
     "start_time": "2022-08-27T17:17:57.593509",
     "status": "completed"
    },
    "tags": []
   },
   "outputs": [],
   "source": [
    "catboost = CatBoostRegressor(verbose= 0)\n",
    "catboost.fit(X_train, y_train)\n",
    "predictions_cb = catboost.predict(X_test)"
   ]
  },
  {
   "cell_type": "code",
   "execution_count": null,
   "id": "01bc9a1a",
   "metadata": {
    "execution": {
     "iopub.execute_input": "2022-08-27T17:18:01.973934Z",
     "iopub.status.busy": "2022-08-27T17:18:01.972845Z",
     "iopub.status.idle": "2022-08-27T17:18:01.982135Z",
     "shell.execute_reply": "2022-08-27T17:18:01.980234Z"
    },
    "papermill": {
     "duration": 0.038757,
     "end_time": "2022-08-27T17:18:01.986039",
     "exception": false,
     "start_time": "2022-08-27T17:18:01.947282",
     "status": "completed"
    },
    "tags": []
   },
   "outputs": [],
   "source": [
    "rmse = np.sqrt(mean_squared_error(y_test, predictions_cb))\n",
    "r2 = r2_score(y_test, predictions_cb)\n",
    "\n",
    "print('RMSE:', rmse)\n",
    "print('R-square:', r2)"
   ]
  },
  {
   "cell_type": "markdown",
   "id": "35964b72",
   "metadata": {
    "papermill": {
     "duration": 0.023401,
     "end_time": "2022-08-27T17:18:02.034054",
     "exception": false,
     "start_time": "2022-08-27T17:18:02.010653",
     "status": "completed"
    },
    "tags": []
   },
   "source": [
    "### XGBoost"
   ]
  },
  {
   "cell_type": "code",
   "execution_count": null,
   "id": "8581e6d4",
   "metadata": {
    "execution": {
     "iopub.execute_input": "2022-08-27T17:18:02.085186Z",
     "iopub.status.busy": "2022-08-27T17:18:02.084699Z",
     "iopub.status.idle": "2022-08-27T17:18:04.049909Z",
     "shell.execute_reply": "2022-08-27T17:18:04.048914Z"
    },
    "papermill": {
     "duration": 1.993865,
     "end_time": "2022-08-27T17:18:04.052949",
     "exception": false,
     "start_time": "2022-08-27T17:18:02.059084",
     "status": "completed"
    },
    "tags": []
   },
   "outputs": [],
   "source": [
    "xgboost = XGBRegressor()\n",
    "xgboost.fit(X_train, y_train)\n",
    "predictions_xgb = xgboost.predict(X_test)"
   ]
  },
  {
   "cell_type": "code",
   "execution_count": null,
   "id": "dcd1589c",
   "metadata": {
    "execution": {
     "iopub.execute_input": "2022-08-27T17:18:04.100819Z",
     "iopub.status.busy": "2022-08-27T17:18:04.100207Z",
     "iopub.status.idle": "2022-08-27T17:18:04.109147Z",
     "shell.execute_reply": "2022-08-27T17:18:04.107390Z"
    },
    "papermill": {
     "duration": 0.035518,
     "end_time": "2022-08-27T17:18:04.111503",
     "exception": false,
     "start_time": "2022-08-27T17:18:04.075985",
     "status": "completed"
    },
    "tags": []
   },
   "outputs": [],
   "source": [
    "rmse = np.sqrt(mean_squared_error(y_test, predictions_xgb))\n",
    "r2 = r2_score(y_test, predictions_xgb)\n",
    "\n",
    "print('RMSE:', rmse)\n",
    "print('R-square:', r2)"
   ]
  },
  {
   "cell_type": "markdown",
   "id": "5d11a4a5",
   "metadata": {
    "papermill": {
     "duration": 0.023555,
     "end_time": "2022-08-27T17:18:04.158922",
     "exception": false,
     "start_time": "2022-08-27T17:18:04.135367",
     "status": "completed"
    },
    "tags": []
   },
   "source": [
    "### LightGBM"
   ]
  },
  {
   "cell_type": "code",
   "execution_count": null,
   "id": "841e0415",
   "metadata": {
    "execution": {
     "iopub.execute_input": "2022-08-27T17:18:04.208991Z",
     "iopub.status.busy": "2022-08-27T17:18:04.208307Z",
     "iopub.status.idle": "2022-08-27T17:18:04.610889Z",
     "shell.execute_reply": "2022-08-27T17:18:04.609765Z"
    },
    "papermill": {
     "duration": 0.431001,
     "end_time": "2022-08-27T17:18:04.613932",
     "exception": false,
     "start_time": "2022-08-27T17:18:04.182931",
     "status": "completed"
    },
    "tags": []
   },
   "outputs": [],
   "source": [
    "lgb = LGBMRegressor()\n",
    "lgb.fit(X_train, y_train)\n",
    "predictions_lgb = lgb.predict(X_test)"
   ]
  },
  {
   "cell_type": "code",
   "execution_count": null,
   "id": "a5a5f5a9",
   "metadata": {
    "execution": {
     "iopub.execute_input": "2022-08-27T17:18:04.663986Z",
     "iopub.status.busy": "2022-08-27T17:18:04.663490Z",
     "iopub.status.idle": "2022-08-27T17:18:04.672621Z",
     "shell.execute_reply": "2022-08-27T17:18:04.671360Z"
    },
    "papermill": {
     "duration": 0.037335,
     "end_time": "2022-08-27T17:18:04.675328",
     "exception": false,
     "start_time": "2022-08-27T17:18:04.637993",
     "status": "completed"
    },
    "tags": []
   },
   "outputs": [],
   "source": [
    "rmse = np.sqrt(mean_squared_error(y_test, predictions_lgb))\n",
    "r2 = r2_score(y_test, predictions_lgb)\n",
    "\n",
    "print('RMSE:', rmse)\n",
    "print('R-square:', r2)"
   ]
  },
  {
   "cell_type": "markdown",
   "id": "a347aef1",
   "metadata": {
    "papermill": {
     "duration": 0.023678,
     "end_time": "2022-08-27T17:18:04.723113",
     "exception": false,
     "start_time": "2022-08-27T17:18:04.699435",
     "status": "completed"
    },
    "tags": []
   },
   "source": [
    "### Gradient Boosting"
   ]
  },
  {
   "cell_type": "code",
   "execution_count": null,
   "id": "acfe17a0",
   "metadata": {
    "execution": {
     "iopub.execute_input": "2022-08-27T17:18:04.773202Z",
     "iopub.status.busy": "2022-08-27T17:18:04.772776Z",
     "iopub.status.idle": "2022-08-27T17:18:08.717989Z",
     "shell.execute_reply": "2022-08-27T17:18:08.716680Z"
    },
    "papermill": {
     "duration": 3.974096,
     "end_time": "2022-08-27T17:18:08.721114",
     "exception": false,
     "start_time": "2022-08-27T17:18:04.747018",
     "status": "completed"
    },
    "tags": []
   },
   "outputs": [],
   "source": [
    "gbr = GradientBoostingRegressor()\n",
    "gbr.fit(X_train, y_train)\n",
    "predictions_gbr = gbr.predict(X_test)"
   ]
  },
  {
   "cell_type": "code",
   "execution_count": null,
   "id": "45c90faf",
   "metadata": {
    "execution": {
     "iopub.execute_input": "2022-08-27T17:18:08.770974Z",
     "iopub.status.busy": "2022-08-27T17:18:08.770530Z",
     "iopub.status.idle": "2022-08-27T17:18:08.779297Z",
     "shell.execute_reply": "2022-08-27T17:18:08.777813Z"
    },
    "papermill": {
     "duration": 0.036753,
     "end_time": "2022-08-27T17:18:08.781811",
     "exception": false,
     "start_time": "2022-08-27T17:18:08.745058",
     "status": "completed"
    },
    "tags": []
   },
   "outputs": [],
   "source": [
    "rmse = np.sqrt(mean_squared_error(y_test, predictions_gbr))\n",
    "r2 = r2_score(y_test, predictions_gbr)\n",
    "\n",
    "print('RMSE:', rmse)\n",
    "print('R-square:', r2)"
   ]
  },
  {
   "cell_type": "markdown",
   "id": "e3dc07e2",
   "metadata": {},
   "source": [
    "## 모델 결정"
   ]
  },
  {
   "cell_type": "markdown",
   "id": "3989b52c",
   "metadata": {
    "papermill": {
     "duration": 0.024761,
     "end_time": "2022-08-27T17:18:08.831425",
     "exception": false,
     "start_time": "2022-08-27T17:18:08.806664",
     "status": "completed"
    },
    "tags": []
   },
   "source": [
    "CatBoost, XGBoost, LightGBM, RandomForest 성능은 다중 선형 회귀, knn, Gradient Boosting 능가하는 것으로 나타났습니다. 이제 이 네 가지 모델을 결합하여 최종 예측을 해보겠습니다."
   ]
  },
  {
   "cell_type": "code",
   "execution_count": null,
   "id": "fe274803",
   "metadata": {
    "execution": {
     "iopub.execute_input": "2022-08-27T17:18:08.883094Z",
     "iopub.status.busy": "2022-08-27T17:18:08.882159Z",
     "iopub.status.idle": "2022-08-27T17:18:08.889040Z",
     "shell.execute_reply": "2022-08-27T17:18:08.887781Z"
    },
    "papermill": {
     "duration": 0.035727,
     "end_time": "2022-08-27T17:18:08.891687",
     "exception": false,
     "start_time": "2022-08-27T17:18:08.855960",
     "status": "completed"
    },
    "tags": []
   },
   "outputs": [],
   "source": [
    "final_predictions = (\n",
    "    0.25 * predictions_cb+\n",
    "    0.25 * predictions_rf+\n",
    "    0.25 * predictions_xgb+\n",
    "    0.25 * predictions_lgb\n",
    ")"
   ]
  },
  {
   "cell_type": "code",
   "execution_count": null,
   "id": "e8e4d81a",
   "metadata": {
    "execution": {
     "iopub.execute_input": "2022-08-27T17:18:08.941931Z",
     "iopub.status.busy": "2022-08-27T17:18:08.941513Z",
     "iopub.status.idle": "2022-08-27T17:18:08.951496Z",
     "shell.execute_reply": "2022-08-27T17:18:08.949657Z"
    },
    "papermill": {
     "duration": 0.038722,
     "end_time": "2022-08-27T17:18:08.954511",
     "exception": false,
     "start_time": "2022-08-27T17:18:08.915789",
     "status": "completed"
    },
    "tags": []
   },
   "outputs": [],
   "source": [
    "rmse = np.sqrt(mean_squared_error(y_test, final_predictions))\n",
    "r2 = r2_score(y_test, final_predictions)\n",
    "\n",
    "print('RMSE:', rmse)\n",
    "print('R-square:', r2)"
   ]
  },
  {
   "cell_type": "code",
   "execution_count": null,
   "id": "ca2f0cf1",
   "metadata": {
    "execution": {
     "iopub.execute_input": "2022-08-27T17:18:09.005493Z",
     "iopub.status.busy": "2022-08-27T17:18:09.005070Z",
     "iopub.status.idle": "2022-08-27T17:18:09.013575Z",
     "shell.execute_reply": "2022-08-27T17:18:09.012226Z"
    },
    "papermill": {
     "duration": 0.037113,
     "end_time": "2022-08-27T17:18:09.016163",
     "exception": false,
     "start_time": "2022-08-27T17:18:08.979050",
     "status": "completed"
    },
    "tags": []
   },
   "outputs": [],
   "source": [
    "final_predictions"
   ]
  },
  {
   "cell_type": "markdown",
   "id": "8c35315a",
   "metadata": {
    "papermill": {
     "duration": 0.02421,
     "end_time": "2022-08-27T17:18:09.064820",
     "exception": false,
     "start_time": "2022-08-27T17:18:09.040610",
     "status": "completed"
    },
    "tags": []
   },
   "source": [
    "최종 예측을 원래 규모로 되돌리려면 최종 예측의 지수를 취해야 합니다."
   ]
  },
  {
   "cell_type": "code",
   "execution_count": null,
   "id": "0fa7993d",
   "metadata": {
    "execution": {
     "iopub.execute_input": "2022-08-27T17:18:09.116984Z",
     "iopub.status.busy": "2022-08-27T17:18:09.116474Z",
     "iopub.status.idle": "2022-08-27T17:18:09.123456Z",
     "shell.execute_reply": "2022-08-27T17:18:09.121967Z"
    },
    "papermill": {
     "duration": 0.035988,
     "end_time": "2022-08-27T17:18:09.126045",
     "exception": false,
     "start_time": "2022-08-27T17:18:09.090057",
     "status": "completed"
    },
    "tags": []
   },
   "outputs": [],
   "source": [
    "final_predictions = np.exp(final_predictions)\n",
    "y_test = np.exp(y_test)"
   ]
  },
  {
   "cell_type": "code",
   "execution_count": null,
   "id": "d5931e04",
   "metadata": {
    "execution": {
     "iopub.execute_input": "2022-08-27T17:18:09.177457Z",
     "iopub.status.busy": "2022-08-27T17:18:09.177003Z",
     "iopub.status.idle": "2022-08-27T17:18:09.193197Z",
     "shell.execute_reply": "2022-08-27T17:18:09.192273Z"
    },
    "papermill": {
     "duration": 0.044521,
     "end_time": "2022-08-27T17:18:09.195315",
     "exception": false,
     "start_time": "2022-08-27T17:18:09.150794",
     "status": "completed"
    },
    "tags": []
   },
   "outputs": [],
   "source": [
    "pd.DataFrame({'Actual': y_test, 'Predicted': final_predictions.round(2)})"
   ]
  },
  {
   "cell_type": "markdown",
   "id": "c977ff61",
   "metadata": {
    "papermill": {
     "duration": 0.024854,
     "end_time": "2022-08-27T17:18:09.245339",
     "exception": false,
     "start_time": "2022-08-27T17:18:09.220485",
     "status": "completed"
    },
    "tags": []
   },
   "source": [
    "## 결과 확인"
   ]
  },
  {
   "cell_type": "code",
   "execution_count": null,
   "id": "b5fa7f3b",
   "metadata": {
    "execution": {
     "iopub.execute_input": "2022-08-27T17:18:09.297851Z",
     "iopub.status.busy": "2022-08-27T17:18:09.297454Z",
     "iopub.status.idle": "2022-08-27T17:18:09.569450Z",
     "shell.execute_reply": "2022-08-27T17:18:09.568165Z"
    },
    "papermill": {
     "duration": 0.302358,
     "end_time": "2022-08-27T17:18:09.573054",
     "exception": false,
     "start_time": "2022-08-27T17:18:09.270696",
     "status": "completed"
    },
    "tags": []
   },
   "outputs": [],
   "source": [
    "plt.figure(figsize= (10, 6))\n",
    "sns.scatterplot(x= y_test, y= final_predictions, color= '#005b96')\n",
    "plt.xlabel('Actual House value')\n",
    "plt.ylabel('Predicted House Value')\n",
    "plt.show()"
   ]
  },
  {
   "cell_type": "code",
   "execution_count": null,
   "id": "60b84f3d",
   "metadata": {
    "execution": {
     "iopub.execute_input": "2022-08-27T17:18:09.630096Z",
     "iopub.status.busy": "2022-08-27T17:18:09.628614Z",
     "iopub.status.idle": "2022-08-27T17:18:09.894117Z",
     "shell.execute_reply": "2022-08-27T17:18:09.892678Z"
    },
    "papermill": {
     "duration": 0.296913,
     "end_time": "2022-08-27T17:18:09.897020",
     "exception": false,
     "start_time": "2022-08-27T17:18:09.600107",
     "status": "completed"
    },
    "tags": []
   },
   "outputs": [],
   "source": [
    "plt.figure(figsize= (10, 6))\n",
    "sns.residplot(x= y_test, y = final_predictions, color= '#005b96')\n",
    "plt.show()"
   ]
  },
  {
   "cell_type": "code",
   "execution_count": null,
   "id": "0ddae9fc",
   "metadata": {
    "execution": {
     "iopub.execute_input": "2022-08-27T17:18:09.956218Z",
     "iopub.status.busy": "2022-08-27T17:18:09.955360Z",
     "iopub.status.idle": "2022-08-27T17:18:10.433031Z",
     "shell.execute_reply": "2022-08-27T17:18:10.431676Z"
    },
    "papermill": {
     "duration": 0.510685,
     "end_time": "2022-08-27T17:18:10.435877",
     "exception": false,
     "start_time": "2022-08-27T17:18:09.925192",
     "status": "completed"
    },
    "tags": []
   },
   "outputs": [],
   "source": [
    "resid = y_test - final_predictions\n",
    "plt.figure(figsize= (10, 6))\n",
    "sns.histplot(resid)\n",
    "plt.xlabel('Error');"
   ]
  },
  {
   "cell_type": "markdown",
   "id": "17b192bf",
   "metadata": {
    "papermill": {
     "duration": 0.027145,
     "end_time": "2022-08-27T17:18:10.490911",
     "exception": false,
     "start_time": "2022-08-27T17:18:10.463766",
     "status": "completed"
    },
    "tags": []
   },
   "source": [
    "오류의 분포가 정상적으로 보이기 때문에 우리 모델이 제대로 작동하고 있는 것입니다."
   ]
  }
 ],
 "metadata": {
  "kernelspec": {
   "display_name": "Python 3",
   "language": "python",
   "name": "python3"
  },
  "language_info": {
   "codemirror_mode": {
    "name": "ipython",
    "version": 3
   },
   "file_extension": ".py",
   "mimetype": "text/x-python",
   "name": "python",
   "nbconvert_exporter": "python",
   "pygments_lexer": "ipython3",
   "version": "3.11.7"
  },
  "papermill": {
   "default_parameters": {},
   "duration": 147.766605,
   "end_time": "2022-08-27T17:18:11.845424",
   "environment_variables": {},
   "exception": null,
   "input_path": "__notebook__.ipynb",
   "output_path": "__notebook__.ipynb",
   "parameters": {},
   "start_time": "2022-08-27T17:15:44.078819",
   "version": "2.3.4"
  }
 },
 "nbformat": 4,
 "nbformat_minor": 5
}
